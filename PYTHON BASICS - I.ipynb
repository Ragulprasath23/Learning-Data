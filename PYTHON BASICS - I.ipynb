{
 "cells": [
  {
   "cell_type": "markdown",
   "id": "25cf67df",
   "metadata": {},
   "source": [
    "### Print()"
   ]
  },
  {
   "cell_type": "code",
   "execution_count": 2,
   "id": "5a6b3191",
   "metadata": {},
   "outputs": [
    {
     "name": "stdout",
     "output_type": "stream",
     "text": [
      "WELCOME TO THE WORLD OF DATA\n"
     ]
    }
   ],
   "source": [
    "print(\"WELCOME TO THE WORLD OF DATA\")"
   ]
  },
  {
   "cell_type": "code",
   "execution_count": 3,
   "id": "60965faf",
   "metadata": {},
   "outputs": [
    {
     "name": "stdout",
     "output_type": "stream",
     "text": [
      "welcome to python\n"
     ]
    }
   ],
   "source": [
    "print('welcome to python')"
   ]
  },
  {
   "cell_type": "markdown",
   "id": "dfa76522",
   "metadata": {},
   "source": [
    "### Comments\n",
    "\n",
    "comments can be single line or multiline "
   ]
  },
  {
   "cell_type": "code",
   "execution_count": 4,
   "id": "afd2e690",
   "metadata": {},
   "outputs": [
    {
     "name": "stdout",
     "output_type": "stream",
     "text": [
      "WELCOME TO THE WORLD OF DATA\n"
     ]
    }
   ],
   "source": [
    "#Welcoming to the world of data\n",
    "print(\"WELCOME TO THE WORLD OF DATA\")"
   ]
  },
  {
   "cell_type": "code",
   "execution_count": 5,
   "id": "d6e1e1a9",
   "metadata": {},
   "outputs": [
    {
     "name": "stdout",
     "output_type": "stream",
     "text": [
      "welcome to python\n"
     ]
    }
   ],
   "source": [
    "'''Multiple lines of\n",
    "comments are \n",
    "possible in python'''\n",
    "print('welcome to python')\n"
   ]
  },
  {
   "cell_type": "markdown",
   "id": "4e51d420",
   "metadata": {},
   "source": [
    "### Variables\n",
    "\n",
    "Variables have certain naming conventions to follow\n",
    "\n",
    "*cannot have space\n",
    "\n",
    "*must not be an numeric value\n",
    "\n",
    "*Variables are CASE SENSITIVE\n",
    "\n",
    "**Type()** function gives the type of variable"
   ]
  },
  {
   "cell_type": "code",
   "execution_count": 6,
   "id": "f90fbe5c",
   "metadata": {},
   "outputs": [],
   "source": [
    "x=25\n",
    "X='New Variable'"
   ]
  },
  {
   "cell_type": "code",
   "execution_count": 7,
   "id": "d4996650",
   "metadata": {},
   "outputs": [
    {
     "name": "stdout",
     "output_type": "stream",
     "text": [
      "25\n",
      "New Variable\n"
     ]
    }
   ],
   "source": [
    "print(x)\n",
    "print(X)"
   ]
  },
  {
   "cell_type": "code",
   "execution_count": 8,
   "id": "11d58604",
   "metadata": {},
   "outputs": [
    {
     "data": {
      "text/plain": [
       "float"
      ]
     },
     "execution_count": 8,
     "metadata": {},
     "output_type": "execute_result"
    }
   ],
   "source": [
    "Second_variable=58.20\n",
    "type(Second_variable)"
   ]
  },
  {
   "cell_type": "markdown",
   "id": "d5230d96",
   "metadata": {},
   "source": [
    "#### Many value to Multiple variable"
   ]
  },
  {
   "cell_type": "code",
   "execution_count": 10,
   "id": "ed8cbbdc",
   "metadata": {},
   "outputs": [
    {
     "name": "stdout",
     "output_type": "stream",
     "text": [
      "better\n",
      "best\n",
      "good\n"
     ]
    }
   ],
   "source": [
    "x1,y1,z1 = 'better','best','good'\n",
    "print(x1)\n",
    "print(y1)\n",
    "print(z1)"
   ]
  },
  {
   "cell_type": "markdown",
   "id": "27d81f26",
   "metadata": {},
   "source": [
    "#### One value to Multiple variable variable"
   ]
  },
  {
   "cell_type": "code",
   "execution_count": 11,
   "id": "b75d0571",
   "metadata": {},
   "outputs": [
    {
     "name": "stdout",
     "output_type": "stream",
     "text": [
      "Multiple\n",
      "Multiple\n",
      "Multiple\n"
     ]
    }
   ],
   "source": [
    "x2=y2=z2='Multiple'\n",
    "print(x2)\n",
    "print(y2)\n",
    "print(z2)"
   ]
  },
  {
   "cell_type": "markdown",
   "id": "ae1da9b2",
   "metadata": {},
   "source": [
    "## Unpacking a collection"
   ]
  },
  {
   "cell_type": "code",
   "execution_count": 12,
   "id": "03374b67",
   "metadata": {},
   "outputs": [
    {
     "name": "stdout",
     "output_type": "stream",
     "text": [
      "apple\n",
      "banana\n",
      "cherry\n"
     ]
    }
   ],
   "source": [
    "fruits = [\"apple\", \"banana\", \"cherry\"]\n",
    "a,b,c = fruits\n",
    "print(a)\n",
    "print(b)\n",
    "print(c)"
   ]
  },
  {
   "cell_type": "markdown",
   "id": "e4b7169c",
   "metadata": {},
   "source": [
    "### Global and Local variable\n",
    "\n",
    "A variable outside a defined function is a Global variable\n",
    "\n",
    "A variable inside a specific defined function is a local variable, yet a Local variable can be connected to the Global variable using the keyword **global**"
   ]
  },
  {
   "cell_type": "markdown",
   "id": "ce30c5e8",
   "metadata": {},
   "source": [
    "## Data Types\n",
    "\n",
    "Text Type:\tstr\n",
    "\n",
    "Numeric Types:\tint, float, complex\n",
    "\n",
    "Sequence Types:\tlist, tuple, range\n",
    "\n",
    "Mapping Type:\tdict\n",
    "\n",
    "Set Types:\tset, frozenset\n",
    "\n",
    "Boolean Type:\tbool\n",
    "\n",
    "Binary Types:\tbytes, bytearray, memoryview\n",
    "\n",
    "None Type:\tNoneType\n"
   ]
  },
  {
   "cell_type": "code",
   "execution_count": 13,
   "id": "1d533d4a",
   "metadata": {},
   "outputs": [],
   "source": [
    "q = 123\n",
    "q1=str(123)"
   ]
  },
  {
   "cell_type": "code",
   "execution_count": 14,
   "id": "d46ef42b",
   "metadata": {},
   "outputs": [
    {
     "data": {
      "text/plain": [
       "str"
      ]
     },
     "execution_count": 14,
     "metadata": {},
     "output_type": "execute_result"
    }
   ],
   "source": [
    "type(q)\n",
    "type(q1)"
   ]
  },
  {
   "cell_type": "code",
   "execution_count": 15,
   "id": "0b272ef5",
   "metadata": {},
   "outputs": [
    {
     "data": {
      "text/plain": [
       "int"
      ]
     },
     "execution_count": 15,
     "metadata": {},
     "output_type": "execute_result"
    }
   ],
   "source": [
    "type(q)"
   ]
  },
  {
   "cell_type": "markdown",
   "id": "5b31cc32",
   "metadata": {},
   "source": [
    "From above it can be identified that a variable datatype can be changed based on the user, where **q is int** and **q1 is string**"
   ]
  },
  {
   "cell_type": "markdown",
   "id": "aa64e69a",
   "metadata": {},
   "source": [
    "### Complex numbers\n",
    "\n",
    "Complexnumbers have an imaginary part attached to the number and this imaginary part is denoted as **j**\n",
    "\n",
    "W = 3j"
   ]
  },
  {
   "cell_type": "code",
   "execution_count": 16,
   "id": "28400406",
   "metadata": {},
   "outputs": [
    {
     "name": "stdout",
     "output_type": "stream",
     "text": [
      "3j\n",
      "<class 'complex'>\n",
      "(5+8j)\n",
      "<class 'complex'>\n"
     ]
    }
   ],
   "source": [
    "w = 3j\n",
    "W = 5+8j\n",
    "print(w)\n",
    "print(type(w))\n",
    "print(W)\n",
    "print(type(W))"
   ]
  },
  {
   "cell_type": "markdown",
   "id": "2c5bcb7a",
   "metadata": {},
   "source": [
    "## Strings\n",
    "\n",
    "Strings are denoted by single or double quotes, srings can be assigned t oa variable\n",
    "\n",
    "**Strings are Arrays**, each element in a string can be accessed using [ ]\n"
   ]
  },
  {
   "cell_type": "code",
   "execution_count": 17,
   "id": "3f9c866a",
   "metadata": {},
   "outputs": [
    {
     "name": "stdout",
     "output_type": "stream",
     "text": [
      "w\n",
      " \n"
     ]
    }
   ],
   "source": [
    "A = 'welcome to python'\n",
    "print(A[0])\n",
    "print(A[7])\n",
    "\n",
    "#In the output A[7] is executed and a blank is given, because in an array an whitespace aslo gets indexed"
   ]
  },
  {
   "cell_type": "code",
   "execution_count": 18,
   "id": "fe79dda3",
   "metadata": {},
   "outputs": [
    {
     "name": "stdout",
     "output_type": "stream",
     "text": [
      "w\n",
      "e\n",
      "l\n",
      "c\n",
      "o\n",
      "m\n",
      "e\n",
      " \n",
      "t\n",
      "o\n",
      " \n",
      "p\n",
      "y\n",
      "t\n",
      "h\n",
      "o\n",
      "n\n"
     ]
    }
   ],
   "source": [
    "#Accessing elements using a for loop\n",
    "\n",
    "for i in A:\n",
    "    print(i)"
   ]
  },
  {
   "cell_type": "markdown",
   "id": "af67adf3",
   "metadata": {},
   "source": [
    "**len()** function can be used to find the length of a string\n",
    "\n",
    "**in** keyword can be used to find a character or word present in a string (Gives an Boolean output)\n",
    "\n",
    "Similarly **not in** keyword can also be used"
   ]
  },
  {
   "cell_type": "code",
   "execution_count": 19,
   "id": "6f4c6f28",
   "metadata": {},
   "outputs": [
    {
     "name": "stdout",
     "output_type": "stream",
     "text": [
      "17\n"
     ]
    }
   ],
   "source": [
    "#len()\n",
    "print(len(A))\n",
    "\n",
    "#The count starts from 1 and it includes whitespaces also as an character"
   ]
  },
  {
   "cell_type": "code",
   "execution_count": 20,
   "id": "6576e5bb",
   "metadata": {},
   "outputs": [
    {
     "name": "stdout",
     "output_type": "stream",
     "text": [
      "True\n"
     ]
    }
   ],
   "source": [
    "#Using IN keyword\n",
    "print('to' in A)"
   ]
  },
  {
   "cell_type": "code",
   "execution_count": 21,
   "id": "7b082c94",
   "metadata": {},
   "outputs": [
    {
     "name": "stdout",
     "output_type": "stream",
     "text": [
      "True\n"
     ]
    }
   ],
   "source": [
    "#Using NOT IN keyword\n",
    "print('java' not in A)"
   ]
  },
  {
   "cell_type": "code",
   "execution_count": 22,
   "id": "3adeb32b",
   "metadata": {},
   "outputs": [
    {
     "name": "stdout",
     "output_type": "stream",
     "text": [
      "False\n"
     ]
    }
   ],
   "source": [
    "print('python' not in A)"
   ]
  },
  {
   "cell_type": "markdown",
   "id": "c3aa5463",
   "metadata": {},
   "source": [
    "### Slicing\n",
    "\n",
    "As strings are arrays, they can be sliced with [ ] "
   ]
  },
  {
   "cell_type": "code",
   "execution_count": 24,
   "id": "c5889fee",
   "metadata": {},
   "outputs": [
    {
     "name": "stdout",
     "output_type": "stream",
     "text": [
      "what's new in python\n",
      "hat'\n"
     ]
    }
   ],
   "source": [
    "#Slicing a string\n",
    "B = \"what's new in python\"\n",
    "print(B)\n",
    "\n",
    "print(B[1:5])"
   ]
  },
  {
   "cell_type": "code",
   "execution_count": 25,
   "id": "c464b5e6",
   "metadata": {},
   "outputs": [
    {
     "name": "stdout",
     "output_type": "stream",
     "text": [
      "what's ne\n"
     ]
    }
   ],
   "source": [
    "#Slicing from start to a fixed end point\n",
    "print(B[:9])"
   ]
  },
  {
   "cell_type": "code",
   "execution_count": 27,
   "id": "fca2d2f4",
   "metadata": {},
   "outputs": [
    {
     "name": "stdout",
     "output_type": "stream",
     "text": [
      "s new in python\n"
     ]
    }
   ],
   "source": [
    "#Slicing from a fixed point to END \n",
    "print(B[5:])"
   ]
  },
  {
   "cell_type": "code",
   "execution_count": 29,
   "id": "26477541",
   "metadata": {},
   "outputs": [
    {
     "name": "stdout",
     "output_type": "stream",
     "text": [
      "yth\n"
     ]
    }
   ],
   "source": [
    "#Slicing from end using Negative indexes\n",
    "print(B[-5:-2])"
   ]
  },
  {
   "cell_type": "markdown",
   "id": "327a56b5",
   "metadata": {},
   "source": [
    "## String Modifiers\n",
    "\n",
    ".upper() - coverts a string to UPPER CASE\n",
    "\n",
    ".lower() - converts a string to lower case\n",
    "\n",
    ".strip() - removes white space in the start/end of an string\n",
    "\n",
    ".split() - Splits the string based on the seperator and [gives a list]\n",
    "\n",
    ".replace(x,y) - replaces a character x with character y in a string"
   ]
  },
  {
   "cell_type": "code",
   "execution_count": 31,
   "id": "0ea6116d",
   "metadata": {},
   "outputs": [
    {
     "name": "stdout",
     "output_type": "stream",
     "text": [
      "  WELCOME TO JUPYTER\n",
      "  welcome to jupyter\n"
     ]
    }
   ],
   "source": [
    "C = '  welcome to jupyter'\n",
    "print(C.upper())\n",
    "print(C.lower())"
   ]
  },
  {
   "cell_type": "code",
   "execution_count": 32,
   "id": "6729a2d4",
   "metadata": {},
   "outputs": [
    {
     "name": "stdout",
     "output_type": "stream",
     "text": [
      "welcome to jupyter\n"
     ]
    }
   ],
   "source": [
    "#Strip() method removes whitespaces\n",
    "\n",
    "print(C.strip())"
   ]
  },
  {
   "cell_type": "code",
   "execution_count": 33,
   "id": "6655be43",
   "metadata": {},
   "outputs": [
    {
     "name": "stdout",
     "output_type": "stream",
     "text": [
      "['welcome', 'to', 'jupyter']\n"
     ]
    }
   ],
   "source": [
    "#split() method splits the string based on the seperator\n",
    "\n",
    "print(C.split())"
   ]
  },
  {
   "cell_type": "code",
   "execution_count": 34,
   "id": "71646652",
   "metadata": {},
   "outputs": [
    {
     "name": "stdout",
     "output_type": "stream",
     "text": [
      "  welc7me t7 jupyter\n"
     ]
    }
   ],
   "source": [
    "#Replacing a character in a string\n",
    "\n",
    "print(C.replace('o','7'))"
   ]
  },
  {
   "cell_type": "code",
   "execution_count": 35,
   "id": "591768a0",
   "metadata": {},
   "outputs": [
    {
     "data": {
      "text/plain": [
       "'  welcome to jupyter'"
      ]
     },
     "execution_count": 35,
     "metadata": {},
     "output_type": "execute_result"
    }
   ],
   "source": [
    "C"
   ]
  },
  {
   "cell_type": "markdown",
   "id": "331b4ba4",
   "metadata": {},
   "source": [
    "## String Format\n",
    "\n",
    "strings cannot be added with  an number\n",
    "\n",
    "Ex: print('My age is' + 20)  -- gives an error\n",
    "\n",
    "Hence, we use string formats"
   ]
  },
  {
   "cell_type": "code",
   "execution_count": 38,
   "id": "579939b8",
   "metadata": {},
   "outputs": [
    {
     "name": "stdout",
     "output_type": "stream",
     "text": [
      "I want 3 pieces of item 567 for 49.95 dollars.\n"
     ]
    }
   ],
   "source": [
    "quantity = 3\n",
    "itemno = 567\n",
    "price = 49.95\n",
    "myorder = \"I want {} pieces of item {} for {} dollars.\"\n",
    "print(myorder.format(quantity, itemno, price))"
   ]
  },
  {
   "cell_type": "code",
   "execution_count": 39,
   "id": "4aa1b021",
   "metadata": {},
   "outputs": [
    {
     "name": "stdout",
     "output_type": "stream",
     "text": [
      "I want to pay 49.95 dollars for 3 pieces of item 567.\n"
     ]
    }
   ],
   "source": [
    "#Indexes of the variables can also be used\n",
    "\n",
    "myorder = \"I want to pay {2} dollars for {0} pieces of item {1}.\"\n",
    "print(myorder.format(quantity, itemno, price))"
   ]
  },
  {
   "cell_type": "markdown",
   "id": "e25a22bf",
   "metadata": {},
   "source": [
    "### Escape Characters\n",
    "\n",
    "\\' - single quote\n",
    "\n",
    "\\n - new line\n",
    "\n",
    "\\b - backspace"
   ]
  },
  {
   "cell_type": "code",
   "execution_count": 41,
   "id": "c8533594",
   "metadata": {},
   "outputs": [
    {
     "name": "stdout",
     "output_type": "stream",
     "text": [
      "We are the so-called \"Vikings\" from the north.\n"
     ]
    }
   ],
   "source": [
    "txt = \"We are the so-called \\\"Vikings\\\" from the north.\"\n",
    "print(txt)"
   ]
  },
  {
   "cell_type": "markdown",
   "id": "52c9de1c",
   "metadata": {},
   "source": [
    "## Boolean Values\n",
    "\n",
    "Boolean values are **True** or **False**\n",
    "\n",
    "**bool()** function can be used to evaluate a value\n",
    "\n",
    "(), [], {}, \"\", the number 0, and the value None gives an FALSE when passed through bool()"
   ]
  },
  {
   "cell_type": "code",
   "execution_count": 42,
   "id": "ad55cc02",
   "metadata": {},
   "outputs": [
    {
     "name": "stdout",
     "output_type": "stream",
     "text": [
      "True\n",
      "False\n"
     ]
    }
   ],
   "source": [
    "print(10 > 9)\n",
    "print(10 == 9)"
   ]
  },
  {
   "cell_type": "code",
   "execution_count": 43,
   "id": "75687cfb",
   "metadata": {},
   "outputs": [
    {
     "name": "stdout",
     "output_type": "stream",
     "text": [
      "True\n",
      "True\n"
     ]
    }
   ],
   "source": [
    "print(bool(\"Hello\"))\n",
    "print(bool(15))"
   ]
  },
  {
   "cell_type": "markdown",
   "id": "b9e1e28c",
   "metadata": {},
   "source": [
    "#### isinstance()\n",
    "used to determine if an object is of a certain data type"
   ]
  },
  {
   "cell_type": "code",
   "execution_count": 44,
   "id": "44bbe913",
   "metadata": {},
   "outputs": [
    {
     "name": "stdout",
     "output_type": "stream",
     "text": [
      "True\n"
     ]
    }
   ],
   "source": [
    "age = 200\n",
    "print(isinstance(age, int))"
   ]
  },
  {
   "cell_type": "markdown",
   "id": "0d663b3b",
   "metadata": {},
   "source": [
    "# Operators\n",
    "\n",
    "Operators are used to perform operations on variables and values\n",
    "\n",
    "Arithmetic operators\n",
    "\n",
    "Assignment operators\n",
    "\n",
    "Comparison operators\n",
    "\n",
    "Logical operators\n"
   ]
  },
  {
   "cell_type": "markdown",
   "id": "d03dd17d",
   "metadata": {},
   "source": [
    "#### Arithmetic operators"
   ]
  },
  {
   "cell_type": "code",
   "execution_count": 45,
   "id": "12743a25",
   "metadata": {},
   "outputs": [
    {
     "data": {
      "text/plain": [
       "10"
      ]
     },
     "execution_count": 45,
     "metadata": {},
     "output_type": "execute_result"
    }
   ],
   "source": [
    "#Addition\n",
    "5+5"
   ]
  },
  {
   "cell_type": "code",
   "execution_count": 46,
   "id": "96b2e77c",
   "metadata": {},
   "outputs": [
    {
     "data": {
      "text/plain": [
       "10"
      ]
     },
     "execution_count": 46,
     "metadata": {},
     "output_type": "execute_result"
    }
   ],
   "source": [
    "#subtraction\n",
    "20-10"
   ]
  },
  {
   "cell_type": "code",
   "execution_count": 47,
   "id": "9179b11c",
   "metadata": {},
   "outputs": [
    {
     "data": {
      "text/plain": [
       "100"
      ]
     },
     "execution_count": 47,
     "metadata": {},
     "output_type": "execute_result"
    }
   ],
   "source": [
    "#Multiplication\n",
    "10*10"
   ]
  },
  {
   "cell_type": "code",
   "execution_count": 48,
   "id": "37217885",
   "metadata": {},
   "outputs": [
    {
     "data": {
      "text/plain": [
       "100"
      ]
     },
     "execution_count": 48,
     "metadata": {},
     "output_type": "execute_result"
    }
   ],
   "source": [
    "#Exponential\n",
    "10**2"
   ]
  },
  {
   "cell_type": "code",
   "execution_count": 49,
   "id": "6865a523",
   "metadata": {},
   "outputs": [
    {
     "data": {
      "text/plain": [
       "12.5"
      ]
     },
     "execution_count": 49,
     "metadata": {},
     "output_type": "execute_result"
    }
   ],
   "source": [
    "#Division\n",
    "50/4"
   ]
  },
  {
   "cell_type": "code",
   "execution_count": 50,
   "id": "e0f51d82",
   "metadata": {},
   "outputs": [
    {
     "data": {
      "text/plain": [
       "5.0"
      ]
     },
     "execution_count": 50,
     "metadata": {},
     "output_type": "execute_result"
    }
   ],
   "source": [
    "50/10"
   ]
  },
  {
   "cell_type": "code",
   "execution_count": 51,
   "id": "2a308685",
   "metadata": {},
   "outputs": [
    {
     "data": {
      "text/plain": [
       "2"
      ]
     },
     "execution_count": 51,
     "metadata": {},
     "output_type": "execute_result"
    }
   ],
   "source": [
    "#to get the reminder\n",
    "50%4"
   ]
  },
  {
   "cell_type": "code",
   "execution_count": 52,
   "id": "bf0d497c",
   "metadata": {},
   "outputs": [
    {
     "data": {
      "text/plain": [
       "12"
      ]
     },
     "execution_count": 52,
     "metadata": {},
     "output_type": "execute_result"
    }
   ],
   "source": [
    "#floor division\n",
    "50//4"
   ]
  },
  {
   "cell_type": "markdown",
   "id": "7878001f",
   "metadata": {},
   "source": [
    "#### Assignment and Comparision operators"
   ]
  },
  {
   "cell_type": "code",
   "execution_count": 54,
   "id": "db002a92",
   "metadata": {},
   "outputs": [
    {
     "data": {
      "text/plain": [
       "50"
      ]
     },
     "execution_count": 54,
     "metadata": {},
     "output_type": "execute_result"
    }
   ],
   "source": [
    "#assigning a value\n",
    "Val = 50\n",
    "Val"
   ]
  },
  {
   "cell_type": "code",
   "execution_count": 55,
   "id": "7631459a",
   "metadata": {},
   "outputs": [
    {
     "data": {
      "text/plain": [
       "False"
      ]
     },
     "execution_count": 55,
     "metadata": {},
     "output_type": "execute_result"
    }
   ],
   "source": [
    "#Equality operator\n",
    "50==40"
   ]
  },
  {
   "cell_type": "code",
   "execution_count": 56,
   "id": "4a7bbdf3",
   "metadata": {},
   "outputs": [
    {
     "data": {
      "text/plain": [
       "True"
      ]
     },
     "execution_count": 56,
     "metadata": {},
     "output_type": "execute_result"
    }
   ],
   "source": [
    "#Not equals operator\n",
    "50!=40"
   ]
  },
  {
   "cell_type": "code",
   "execution_count": 57,
   "id": "e2f76ad3",
   "metadata": {},
   "outputs": [
    {
     "name": "stdout",
     "output_type": "stream",
     "text": [
      "True\n",
      "True\n",
      "True\n",
      "True\n"
     ]
    }
   ],
   "source": [
    "#greater than and less than operators\n",
    "print(10<20)\n",
    "print(20>10)\n",
    "print(25<=25)\n",
    "print(300>=100)"
   ]
  },
  {
   "cell_type": "markdown",
   "id": "c06f7904",
   "metadata": {},
   "source": [
    "####  Logical operator"
   ]
  },
  {
   "cell_type": "code",
   "execution_count": 58,
   "id": "3262e7aa",
   "metadata": {},
   "outputs": [
    {
     "data": {
      "text/plain": [
       "True"
      ]
     },
     "execution_count": 58,
     "metadata": {},
     "output_type": "execute_result"
    }
   ],
   "source": [
    "#AND operator - satisfy both conditions\n",
    "(25<30)and(30<40)"
   ]
  },
  {
   "cell_type": "code",
   "execution_count": 59,
   "id": "27cdbe8f",
   "metadata": {},
   "outputs": [
    {
     "data": {
      "text/plain": [
       "False"
      ]
     },
     "execution_count": 59,
     "metadata": {},
     "output_type": "execute_result"
    }
   ],
   "source": [
    "(25>30)and(30<40)"
   ]
  },
  {
   "cell_type": "code",
   "execution_count": 60,
   "id": "422684bf",
   "metadata": {},
   "outputs": [
    {
     "data": {
      "text/plain": [
       "True"
      ]
     },
     "execution_count": 60,
     "metadata": {},
     "output_type": "execute_result"
    }
   ],
   "source": [
    "#OR operator -satisfy atleast one condition\n",
    "(25<30)or(30<40)"
   ]
  },
  {
   "cell_type": "code",
   "execution_count": 62,
   "id": "9bf924ae",
   "metadata": {
    "scrolled": true
   },
   "outputs": [
    {
     "data": {
      "text/plain": [
       "False"
      ]
     },
     "execution_count": 62,
     "metadata": {},
     "output_type": "execute_result"
    }
   ],
   "source": [
    "#NOT operator - reverses the result\n",
    "not((25<30)or(30<40))"
   ]
  },
  {
   "cell_type": "code",
   "execution_count": null,
   "id": "12c84881",
   "metadata": {},
   "outputs": [],
   "source": []
  }
 ],
 "metadata": {
  "kernelspec": {
   "display_name": "Python 3 (ipykernel)",
   "language": "python",
   "name": "python3"
  },
  "language_info": {
   "codemirror_mode": {
    "name": "ipython",
    "version": 3
   },
   "file_extension": ".py",
   "mimetype": "text/x-python",
   "name": "python",
   "nbconvert_exporter": "python",
   "pygments_lexer": "ipython3",
   "version": "3.9.12"
  }
 },
 "nbformat": 4,
 "nbformat_minor": 5
}
