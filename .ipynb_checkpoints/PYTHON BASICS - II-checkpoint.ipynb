{
 "cells": [
  {
   "cell_type": "markdown",
   "id": "4f7b920c",
   "metadata": {},
   "source": [
    "## LISTS\n",
    "\n",
    "Lists are used to store multiple items in a single variable\n",
    "\n",
    "other 3 are Tuple, Set, and Dictionary, all with different qualities and usage\n",
    "\n",
    "List items are ordered, changeable, and allow duplicate values\n",
    "\n",
    "List items are indexed, the first item has index [0]"
   ]
  },
  {
   "cell_type": "code",
   "execution_count": 1,
   "id": "c040673a",
   "metadata": {},
   "outputs": [
    {
     "name": "stdout",
     "output_type": "stream",
     "text": [
      "['apple', 'banana', 'cherry']\n"
     ]
    }
   ],
   "source": [
    "thislist = [\"apple\", \"banana\", \"cherry\"]\n",
    "print(thislist)"
   ]
  },
  {
   "cell_type": "code",
   "execution_count": 2,
   "id": "19d69135",
   "metadata": {},
   "outputs": [],
   "source": [
    "#A list can contain different data types\n",
    "list1 = [\"abc\", 34, True, 40, \"male\"]"
   ]
  },
  {
   "cell_type": "code",
   "execution_count": 3,
   "id": "6b6099a8",
   "metadata": {},
   "outputs": [
    {
     "data": {
      "text/plain": [
       "['abc', 34, True, 40, 'male']"
      ]
     },
     "execution_count": 3,
     "metadata": {},
     "output_type": "execute_result"
    }
   ],
   "source": [
    "list1"
   ]
  },
  {
   "cell_type": "markdown",
   "id": "875a54c7",
   "metadata": {},
   "source": [
    "**List is a collection which is ordered and changeable. Allows duplicate members**\n",
    "\n",
    "**Tuple is a collection which is ordered and unchangeable. Allows duplicate members**\n",
    "\n",
    "**Set is a collection which is unordered, unchangeable*, and unindexed. No duplicate members**\n",
    "\n",
    "**Dictionary is a collection which is ordered and changeable. No duplicate members**"
   ]
  },
  {
   "cell_type": "code",
   "execution_count": 4,
   "id": "e684fb42",
   "metadata": {},
   "outputs": [
    {
     "name": "stdout",
     "output_type": "stream",
     "text": [
      "['apple', 'banana', 'cherry', 'orange', 'kiwi', 'melon', 'mango']\n"
     ]
    }
   ],
   "source": [
    "thislist = [\"apple\", \"banana\", \"cherry\", \"orange\", \"kiwi\", \"melon\", \"mango\"]\n",
    "print(thislist)"
   ]
  },
  {
   "cell_type": "code",
   "execution_count": 5,
   "id": "c501d1e6",
   "metadata": {},
   "outputs": [
    {
     "name": "stdout",
     "output_type": "stream",
     "text": [
      "7\n"
     ]
    }
   ],
   "source": [
    "#length of list\n",
    "print(len(thislist))"
   ]
  },
  {
   "cell_type": "code",
   "execution_count": 6,
   "id": "0c2806ee",
   "metadata": {},
   "outputs": [
    {
     "name": "stdout",
     "output_type": "stream",
     "text": [
      "cherry\n"
     ]
    }
   ],
   "source": [
    "#accessing  an item\n",
    "print(thislist[2])"
   ]
  },
  {
   "cell_type": "code",
   "execution_count": 7,
   "id": "eeefcf39",
   "metadata": {},
   "outputs": [
    {
     "name": "stdout",
     "output_type": "stream",
     "text": [
      "melon\n"
     ]
    }
   ],
   "source": [
    "#Negative indexing\n",
    "print(thislist[-2])"
   ]
  },
  {
   "cell_type": "code",
   "execution_count": 8,
   "id": "871e0384",
   "metadata": {},
   "outputs": [
    {
     "name": "stdout",
     "output_type": "stream",
     "text": [
      "['cherry', 'orange', 'kiwi', 'melon', 'mango']\n"
     ]
    }
   ],
   "source": [
    "#Range for index\n",
    "print(thislist[2:7])"
   ]
  },
  {
   "cell_type": "code",
   "execution_count": 9,
   "id": "cafede11",
   "metadata": {},
   "outputs": [
    {
     "name": "stdout",
     "output_type": "stream",
     "text": [
      "['apple', 'banana', 'cherry', 'orange', 'kiwi']\n",
      "['kiwi', 'melon', 'mango']\n",
      "['cherry', 'orange', 'kiwi']\n"
     ]
    }
   ],
   "source": [
    "print(thislist[:5])\n",
    "print(thislist[4:])\n",
    "print(thislist[-5:-2])"
   ]
  },
  {
   "cell_type": "markdown",
   "id": "aa90a66e",
   "metadata": {},
   "source": [
    "An item can be searched through lists using an **if statement**"
   ]
  },
  {
   "cell_type": "code",
   "execution_count": 10,
   "id": "71535a16",
   "metadata": {},
   "outputs": [
    {
     "name": "stdout",
     "output_type": "stream",
     "text": [
      "Yes, 'apple' is in the fruits list\n"
     ]
    }
   ],
   "source": [
    "thislist = [\"apple\", \"banana\", \"cherry\"]\n",
    "if \"apple\" in thislist:\n",
    "  print(\"Yes, 'apple' is in the fruits list\")"
   ]
  },
  {
   "cell_type": "code",
   "execution_count": 11,
   "id": "a1e2f13a",
   "metadata": {},
   "outputs": [
    {
     "name": "stdout",
     "output_type": "stream",
     "text": [
      "['apple', 'blackcurrant', 'cherry']\n"
     ]
    }
   ],
   "source": [
    "#Lists are mutable and new values can be asigned by indexing the item\n",
    "thislist = [\"apple\", \"banana\", \"cherry\"]\n",
    "thislist[1] = \"blackcurrant\"\n",
    "print(thislist)"
   ]
  },
  {
   "cell_type": "code",
   "execution_count": 12,
   "id": "e2ab717e",
   "metadata": {},
   "outputs": [
    {
     "name": "stdout",
     "output_type": "stream",
     "text": [
      "['apple', ('blackcurrant', 'vanilla'), 'cherry']\n"
     ]
    }
   ],
   "source": [
    "#Multiple value in for a single index\n",
    "thislist = [\"apple\", \"banana\", \"cherry\"]\n",
    "thislist[1] = \"blackcurrant\",\"vanilla\"\n",
    "print(thislist)"
   ]
  },
  {
   "cell_type": "code",
   "execution_count": 13,
   "id": "6469b89a",
   "metadata": {},
   "outputs": [
    {
     "name": "stdout",
     "output_type": "stream",
     "text": [
      "['apple', 'blackcurrant', 'vanilla', 'cherry']\n"
     ]
    }
   ],
   "source": [
    "thislist = [\"apple\", \"banana\", \"cherry\"]\n",
    "thislist[1:2] = \"blackcurrant\",\"vanilla\"\n",
    "print(thislist)"
   ]
  },
  {
   "cell_type": "markdown",
   "id": "dc2614cf",
   "metadata": {},
   "source": [
    "**As seen above a single indexing assigned the value for a single index within a brackets, but when the indexes were ranged the values were added accordingly and the previou values are pushed**"
   ]
  },
  {
   "cell_type": "markdown",
   "id": "20f21757",
   "metadata": {},
   "source": [
    "**insert()** inserts a value at a specified place"
   ]
  },
  {
   "cell_type": "code",
   "execution_count": 14,
   "id": "81b170a6",
   "metadata": {},
   "outputs": [
    {
     "name": "stdout",
     "output_type": "stream",
     "text": [
      "['apple', 'banana', 'watermelon', 'cherry']\n"
     ]
    }
   ],
   "source": [
    "thislist = [\"apple\", \"banana\", \"cherry\"]\n",
    "thislist.insert(2, \"watermelon\")\n",
    "print(thislist)"
   ]
  },
  {
   "cell_type": "markdown",
   "id": "1d231980",
   "metadata": {},
   "source": [
    "**append()** method adds a value to the end of a list"
   ]
  },
  {
   "cell_type": "code",
   "execution_count": 15,
   "id": "6ad1123a",
   "metadata": {},
   "outputs": [
    {
     "name": "stdout",
     "output_type": "stream",
     "text": [
      "['apple', 'banana', 'cherry', 'orange']\n"
     ]
    }
   ],
   "source": [
    "thislist = [\"apple\", \"banana\", \"cherry\"]\n",
    "thislist.append(\"orange\")\n",
    "print(thislist)"
   ]
  },
  {
   "cell_type": "markdown",
   "id": "e7379e5e",
   "metadata": {},
   "source": [
    "**extend()** menthod can be used to append elements of other lists\n",
    "\n",
    "**extend() can append a list and a tuple together**"
   ]
  },
  {
   "cell_type": "code",
   "execution_count": 16,
   "id": "a5e88f17",
   "metadata": {},
   "outputs": [
    {
     "name": "stdout",
     "output_type": "stream",
     "text": [
      "['apple', 'banana', 'cherry', 'kiwi', 'orange']\n"
     ]
    }
   ],
   "source": [
    "thislist = [\"apple\", \"banana\", \"cherry\"]\n",
    "thistuple = (\"kiwi\", \"orange\")\n",
    "thislist.extend(thistuple)\n",
    "print(thislist)"
   ]
  },
  {
   "cell_type": "code",
   "execution_count": 17,
   "id": "7f139b35",
   "metadata": {},
   "outputs": [
    {
     "data": {
      "text/plain": [
       "['apple', 'banana', 'cherry', 'kiwi', 'orange']"
      ]
     },
     "execution_count": 17,
     "metadata": {},
     "output_type": "execute_result"
    }
   ],
   "source": [
    "thislist"
   ]
  },
  {
   "cell_type": "code",
   "execution_count": 18,
   "id": "f616a72b",
   "metadata": {},
   "outputs": [
    {
     "name": "stdout",
     "output_type": "stream",
     "text": [
      "['apple', 'banana', 'cherry', 'orange']\n"
     ]
    }
   ],
   "source": [
    "#remove() to remove an item\n",
    "thislist.remove('kiwi')\n",
    "print(thislist)"
   ]
  },
  {
   "cell_type": "code",
   "execution_count": 19,
   "id": "1a38f847",
   "metadata": {},
   "outputs": [
    {
     "name": "stdout",
     "output_type": "stream",
     "text": [
      "['apple', 'banana', 'orange']\n"
     ]
    }
   ],
   "source": [
    "#pop() keywordd to remove a specific item\n",
    "thislist.pop(2)\n",
    "print(thislist)"
   ]
  },
  {
   "cell_type": "markdown",
   "id": "4a1ed76e",
   "metadata": {},
   "source": [
    "### Sorting a list"
   ]
  },
  {
   "cell_type": "code",
   "execution_count": 20,
   "id": "17983f9e",
   "metadata": {},
   "outputs": [
    {
     "name": "stdout",
     "output_type": "stream",
     "text": [
      "[23, 50, 65, 82, 100]\n"
     ]
    }
   ],
   "source": [
    "#sorting a list with sort()\n",
    "#Default sort is Alphanumeric, ascending\n",
    "thislist1 = [100, 50, 65, 82, 23]\n",
    "thislist1.sort()\n",
    "print(thislist1)"
   ]
  },
  {
   "cell_type": "code",
   "execution_count": 21,
   "id": "0d9b376b",
   "metadata": {},
   "outputs": [
    {
     "name": "stdout",
     "output_type": "stream",
     "text": [
      "[100, 82, 65, 50, 23]\n"
     ]
    }
   ],
   "source": [
    "#Descending sort by setting the reverse = True\n",
    "thislist1 = [100, 50, 65, 82, 23]\n",
    "thislist1.sort(reverse=True)\n",
    "print(thislist1)"
   ]
  },
  {
   "cell_type": "code",
   "execution_count": null,
   "id": "b2f8225f",
   "metadata": {},
   "outputs": [],
   "source": []
  }
 ],
 "metadata": {
  "kernelspec": {
   "display_name": "Python 3 (ipykernel)",
   "language": "python",
   "name": "python3"
  },
  "language_info": {
   "codemirror_mode": {
    "name": "ipython",
    "version": 3
   },
   "file_extension": ".py",
   "mimetype": "text/x-python",
   "name": "python",
   "nbconvert_exporter": "python",
   "pygments_lexer": "ipython3",
   "version": "3.9.12"
  }
 },
 "nbformat": 4,
 "nbformat_minor": 5
}
